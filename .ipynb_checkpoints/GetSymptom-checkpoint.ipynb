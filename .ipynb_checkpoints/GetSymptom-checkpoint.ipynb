{
 "cells": [
  {
   "cell_type": "code",
   "execution_count": null,
   "metadata": {},
   "outputs": [],
   "source": [
    "#coding:utf-8\n",
    "import requests\n",
    "import json\n",
    "import time\n",
    "import bs4\n",
    "from bs4 import BeautifulSoup\n",
    "import re\n",
    "\n",
    "def getHTMLText(url):\n",
    "    try:\n",
    "        #print(\"1\")\n",
    "        header={'User-Agent': 'Mozilla/5.0 (Windows NT 10.0; Win64; x64) AppleWebKit/537.36 (KHTML, like Gecko) Chrome/75.0.3770.80 Safari/537.36'}\n",
    "        r = requests.get(url,timeout = 30, headers = header)\n",
    "        #print(\"2\")\n",
    "\n",
    "        return r.text\n",
    "    except:\n",
    "        return \"失败了\"\n",
    "    \n",
    "def getSymptom(html):\n",
    "    symptom = []\n",
    "    soup = BeautifulSoup(html, \"lxml\")\n",
    "    tex = soup.find(attrs={'class':'disease-right-bottom'})\n",
    "    f = tex.findAll('span')\n",
    "    con = f[2]\n",
    "    symptom_list = con.findAll('a')\n",
    "    for sym in symptom_list:\n",
    "        print(sym.string)\n",
    "        symptom.append(sym.string)\n",
    "    return symptom\n",
    "    \n",
    "    \n",
    "def main():\n",
    "    sym_dict = {}\n",
    "    f = open('./data/LinkAndDisease.json','rb')\n",
    "    dict = json.load(f)\n",
    "    print(len(dict))\n",
    "    for key, value in dict.items():\n",
    "        time.sleep(1)\n",
    "        try:\n",
    "            html = getHTMLText(value)\n",
    "            symptom = getSymptom(html)\n",
    "            sym_dict[key] = symptom\n",
    "        except Exception:\n",
    "            pass\n",
    "    f.close()\n",
    "    jsObj = json.dumps(sym_dict, ensure_ascii=False)\n",
    "    fileObject = open('./data/result_disease.json', 'w', encoding='utf8')\n",
    "    fileObject.write(jsObj)\n",
    "    fileObject.close()\n",
    "    print(\"结束\")\n",
    "    \n",
    "main()"
   ]
  }
 ],
 "metadata": {
  "kernelspec": {
   "display_name": "Python 3",
   "language": "python",
   "name": "python3"
  },
  "language_info": {
   "codemirror_mode": {
    "name": "ipython",
    "version": 3
   },
   "file_extension": ".py",
   "mimetype": "text/x-python",
   "name": "python",
   "nbconvert_exporter": "python",
   "pygments_lexer": "ipython3",
   "version": "3.7.6"
  }
 },
 "nbformat": 4,
 "nbformat_minor": 4
}
